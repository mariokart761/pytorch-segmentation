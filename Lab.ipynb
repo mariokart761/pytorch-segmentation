{
 "cells": [
  {
   "cell_type": "code",
   "execution_count": 1,
   "metadata": {},
   "outputs": [
    {
     "name": "stderr",
     "output_type": "stream",
     "text": [
      "Processing images: 100%|██████████| 242/242 [00:57<00:00,  4.23it/s]\n"
     ]
    }
   ],
   "source": [
    "import cv2\n",
    "import os\n",
    "import json\n",
    "import numpy as np\n",
    "from tqdm import tqdm\n",
    "\n",
    "# 讀取class_bgr.json文件\n",
    "with open('class_bgr.json', 'r') as file:\n",
    "    class_bgr = json.load(file)\n",
    "\n",
    "# 建立從BGR值到類別名的映射\n",
    "bgr_to_class = {tuple(bgr): class_name for class_name, bgr in class_bgr.items()}\n",
    "\n",
    "# 準備文件路徑\n",
    "inference_output_dir = './inference_data/ground_truth'\n",
    "\n",
    "# 存儲每張圖像的類別名\n",
    "documents = []\n",
    "\n",
    "# 轉換並建構documents\n",
    "for inference_filename in tqdm(os.listdir(inference_output_dir), desc=\"Processing images\"):\n",
    "    inference_path = os.path.join(inference_output_dir, inference_filename)\n",
    "    segmentation_result = cv2.imread(inference_path)\n",
    "\n",
    "    # 獲得該圖像的所有像素點的Class\n",
    "    class_names = [bgr_to_class.get(tuple(segmentation_result[y, x].tolist()), \"unknown\") for y in range(segmentation_result.shape[0]) for x in range(segmentation_result.shape[1])]\n",
    "\n",
    "    # 將類別名作為“文檔”\n",
    "    documents.append(class_names)\n"
   ]
  },
  {
   "cell_type": "code",
   "execution_count": 2,
   "metadata": {},
   "outputs": [],
   "source": [
    "# 建立詞彙表和索引\n",
    "vocab = set(word for doc in documents for word in doc)\n",
    "vocab_index = {word: i for i, word in enumerate(vocab)}\n",
    "\n",
    "# 手動計算TF\n",
    "tf_matrix = np.zeros((len(documents), len(vocab)))\n",
    "\n",
    "for doc_idx, doc in enumerate(documents):\n",
    "    for word in doc:\n",
    "        word_idx = vocab_index[word]\n",
    "        tf_matrix[doc_idx, word_idx] += 1\n",
    "\n",
    "# 計算每個類別出現在文檔的比例\n",
    "class_presence = np.count_nonzero(tf_matrix, axis=0) / len(documents)\n",
    "\n",
    "# # 對TF矩陣中的每個類別按其出現比例進行加權\n",
    "# tf_weighted = tf_matrix * class_presence\n",
    "\n",
    "\n",
    "# 手動計算IDF\n",
    "n_documents = len(documents)\n",
    "df = np.count_nonzero(tf_matrix, axis=0)\n",
    "# idf = np.log((n_documents + 1e-9) / (df + 1e-9))"
   ]
  },
  {
   "cell_type": "code",
   "execution_count": 5,
   "metadata": {},
   "outputs": [
    {
     "name": "stdout",
     "output_type": "stream",
     "text": [
      "242\n",
      "10\n",
      "[0.80991736 0.39256198 0.7768595  0.92561983 1.         0.20247934\n",
      " 0.47933884 0.56198347 0.98760331 0.13636364]\n",
      "[ 28165.      0.  14736. 326573.  22715.      0.      0.   8232. 521179.\n",
      "      0.]\n",
      "242\n"
     ]
    }
   ],
   "source": [
    "print(len(tf_matrix))\n",
    "print(len(tf_matrix[0]))\n",
    "# pixel_probability_matrix = tf_matrix/(1280*720)\n",
    "# weights = 1 / (pixel_probability_matrix + 1e-9)\n",
    "print(class_presence)\n",
    "print(tf_matrix[0])\n",
    "print(len(documents))\n",
    "# print(tf_weighted[0].astype(int))"
   ]
  },
  {
   "cell_type": "code",
   "execution_count": 9,
   "metadata": {},
   "outputs": [
    {
     "data": {
      "text/plain": [
       "array([0.80991736, 0.39256198, 0.7768595 , 0.92561983, 1.        ,\n",
       "       0.20247934, 0.47933884, 0.56198347, 0.98760331, 0.13636364])"
      ]
     },
     "execution_count": 9,
     "metadata": {},
     "output_type": "execute_result"
    }
   ],
   "source": [
    "df = np.count_nonzero(tf_matrix, axis=0)/n_documents\n",
    "df"
   ]
  },
  {
   "cell_type": "code",
   "execution_count": 14,
   "metadata": {},
   "outputs": [
    {
     "name": "stdout",
     "output_type": "stream",
     "text": [
      "[INFO] Normalizing...\n"
     ]
    }
   ],
   "source": [
    "# 對TF取倒數並與IDF相乘\n",
    "tf_inverse = 1 / (tf_matrix + 1e-9)  # 避免除以0\n",
    "weights = tf_inverse * (df*df)\n",
    "\n",
    "# or 取tf倒數作為權重\n",
    "# tf_weighted = tf_weighted.astype(int)\n",
    "# weights = ( 1 / (tf_matrix + 1e-9) ) * class_presence * class_presence\n",
    "\n",
    "# 對權重進行歸一化\n",
    "print(\"[INFO] Normalizing...\")\n",
    "weights_normalized = weights / np.linalg.norm(weights, axis=1, keepdims=True)\n",
    "\n",
    "# 計算每個類別的權重並保存\n",
    "class_weights = np.sum(weights_normalized, axis=0)\n",
    "class_weights_dict = {word: weight for word, weight in zip(vocab, class_weights)}"
   ]
  },
  {
   "cell_type": "code",
   "execution_count": 15,
   "metadata": {},
   "outputs": [
    {
     "name": "stdout",
     "output_type": "stream",
     "text": [
      "[INFO] Class weights have been saved.\n"
     ]
    }
   ],
   "source": [
    "with open('class_weight_woIDFver3.json', 'w') as json_file:\n",
    "    json.dump(class_weights_dict, json_file, indent=4)\n",
    "\n",
    "print(\"[INFO] Class weights have been saved.\")"
   ]
  }
 ],
 "metadata": {
  "kernelspec": {
   "display_name": "Python 3",
   "language": "python",
   "name": "python3"
  },
  "language_info": {
   "codemirror_mode": {
    "name": "ipython",
    "version": 3
   },
   "file_extension": ".py",
   "mimetype": "text/x-python",
   "name": "python",
   "nbconvert_exporter": "python",
   "pygments_lexer": "ipython3",
   "version": "3.10.9"
  }
 },
 "nbformat": 4,
 "nbformat_minor": 2
}
