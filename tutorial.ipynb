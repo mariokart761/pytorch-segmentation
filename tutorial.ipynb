{
  "cells": [
    {
      "cell_type": "code",
      "execution_count": null,
      "metadata": {
        "colab": {
          "base_uri": "https://localhost:8080/"
        },
        "id": "bByo8uLBC9PG",
        "outputId": "894379bf-1cc9-425b-a805-1a551455423e"
      },
      "outputs": [],
      "source": [
        "!git clone https://github.com/yassouali/pytorch-segmentation\n",
        "\n",
        "%cd pytorch-segmentation\n",
        "!mkdir -p ./data/cityscapes/leftImg8bit_trainvaltest\n",
        "!mkdir -p ./data/cityscapes/gtFine_trainvaltest\n",
        "%cd data"
      ]
    },
    {
      "cell_type": "markdown",
      "metadata": {
        "id": "2UWsN3kLaglx"
      },
      "source": [
        "### Sign in to the dataset site [link](https://www.cityscapes-dataset.com/login/).\n",
        "On the successive cell modify the first row changing USERNAME and PASSWORD with your actual cityscapes username and password\n"
      ]
    },
    {
      "cell_type": "code",
      "execution_count": null,
      "metadata": {
        "colab": {
          "base_uri": "https://localhost:8080/"
        },
        "id": "kEufh0mUaqHX",
        "outputId": "22b29964-9443-4374-d88c-fcd2d37a30e3"
      },
      "outputs": [],
      "source": [
        "#modify -->\n",
        "!wget --keep-session-cookies --save-cookies=cookies.txt --post-data 'username=USERNAME&password=PASSWORD-&submit=Login' https://www.cityscapes-dataset.com/login/\n",
        "#<-- modify\n",
        "\n",
        "!wget --load-cookies cookies.txt --content-disposition https://www.cityscapes-dataset.com/file-handling/?packageID=1\n",
        "!wget --load-cookies cookies.txt --content-disposition https://www.cityscapes-dataset.com/file-handling/?packageID=3\n"
      ]
    },
    {
      "cell_type": "code",
      "execution_count": null,
      "metadata": {
        "colab": {
          "base_uri": "https://localhost:8080/"
        },
        "id": "7kUeVKbGRIYV",
        "outputId": "304cd4cb-0102-483c-9e24-9ed402425bd4"
      },
      "outputs": [],
      "source": [
        "!unzip -o gtFine_trainvaltest.zip -d ./cityscapes/gtFine_trainvaltest\n",
        "!unzip -o leftImg8bit_trainvaltest.zip -d ./cityscapes/leftImg8bit_trainvaltest\n",
        "\n",
        "%cd ..\n",
        "!ls"
      ]
    },
    {
      "cell_type": "code",
      "execution_count": null,
      "metadata": {
        "colab": {
          "base_uri": "https://localhost:8080/"
        },
        "id": "LLt39z-4SZH4",
        "outputId": "67cf57a0-2649-48ce-e660-3432039be2fb"
      },
      "outputs": [],
      "source": [
        "!python train.py --config config.json"
      ]
    }
  ],
  "metadata": {
    "colab": {
      "provenance": []
    },
    "kernelspec": {
      "display_name": "Python 3",
      "name": "python3"
    },
    "language_info": {
      "name": "python"
    }
  },
  "nbformat": 4,
  "nbformat_minor": 0
}
