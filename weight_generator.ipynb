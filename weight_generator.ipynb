{
 "cells": [
  {
   "cell_type": "code",
   "execution_count": 26,
   "metadata": {},
   "outputs": [
    {
     "name": "stderr",
     "output_type": "stream",
     "text": [
      "Processing images: 100%|██████████| 242/242 [00:55<00:00,  4.39it/s]\n"
     ]
    }
   ],
   "source": [
    "import cv2\n",
    "import os\n",
    "import json\n",
    "import numpy as np\n",
    "from tqdm import tqdm\n",
    "\n",
    "# 讀取class_bgr.json文件\n",
    "with open('class_bgr.json', 'r') as file:\n",
    "    class_bgr = json.load(file)\n",
    "\n",
    "# 建立從BGR值到類別名的映射\n",
    "bgr_to_class = {tuple(bgr): class_name for class_name, bgr in class_bgr.items()}\n",
    "\n",
    "# 準備文件路徑\n",
    "inference_output_dir = './inference_data/ground_truth'\n",
    "\n",
    "# 存儲每張圖像的類別名\n",
    "documents = []\n",
    "\n",
    "# 轉換並建構documents\n",
    "for inference_filename in tqdm(os.listdir(inference_output_dir), desc=\"Processing images\"):\n",
    "    inference_path = os.path.join(inference_output_dir, inference_filename)\n",
    "    segmentation_result = cv2.imread(inference_path)\n",
    "\n",
    "    # 獲得該圖像的所有像素點的Class\n",
    "    class_names = [bgr_to_class.get(tuple(segmentation_result[y, x].tolist()), \"unknown\") for y in range(segmentation_result.shape[0]) for x in range(segmentation_result.shape[1])]\n",
    "\n",
    "    # 將類別名作為“文檔”\n",
    "    documents.append(class_names)\n"
   ]
  },
  {
   "cell_type": "code",
   "execution_count": 27,
   "metadata": {},
   "outputs": [],
   "source": [
    "# 建立詞彙表和索引\n",
    "vocab = set(word for doc in documents for word in doc)\n",
    "vocab_index = {word: i for i, word in enumerate(vocab)}\n",
    "\n",
    "# 手動計算TF\n",
    "tf_matrix = np.zeros((len(documents), len(vocab)))\n",
    "\n",
    "for doc_idx, doc in enumerate(documents):\n",
    "    for word in doc:\n",
    "        word_idx = vocab_index[word]\n",
    "        tf_matrix[doc_idx, word_idx] += 1"
   ]
  },
  {
   "cell_type": "code",
   "execution_count": 37,
   "metadata": {},
   "outputs": [
    {
     "name": "stdout",
     "output_type": "stream",
     "text": [
      "[INFO] Normalizing...\n"
     ]
    }
   ],
   "source": [
    "# 計算documents frequency\n",
    "n_documents = len(documents)\n",
    "df = np.count_nonzero(tf_matrix, axis=0) / n_documents\n",
    "\n",
    "# 對TF取倒數並與IDF相乘\n",
    "tf_inverse = 1 / (tf_matrix + 1e-9)  # 避免除以0\n",
    "weights = tf_inverse * df *df\n",
    "\n",
    "# 計算每個類別的權重並保存\n",
    "class_weights = np.sum(weights, axis=0)\n",
    "\n",
    "# 對權重進行歸一化\n",
    "print(\"[INFO] Normalizing...\")\n",
    "class_weights_normalized = class_weights / np.linalg.norm(class_weights)\n",
    "\n",
    "# 計算每個類別的權重\n",
    "class_weights_dict = {word: weight for word, weight in zip(vocab, class_weights_normalized)}"
   ]
  },
  {
   "cell_type": "code",
   "execution_count": 38,
   "metadata": {},
   "outputs": [
    {
     "name": "stdout",
     "output_type": "stream",
     "text": [
      "Sorted class weights have been saved to class_weight_ver6.json.\n"
     ]
    }
   ],
   "source": [
    "# 讀取class_bgr.json文件來獲取類別順序\n",
    "with open('class_bgr.json', 'r') as file:\n",
    "    class_order = json.load(file)\n",
    "\n",
    "# 根據class_bgr.json中的順序重新排序class_weights_dict\n",
    "sorted_class_weights = {class_name: class_weights_dict[class_name] for class_name in class_order.keys() if class_name in class_weights_dict}\n",
    "simplified_class_weights = {class_name: round(weight, 2) for class_name, weight in sorted_class_weights.items()}\n",
    "\n",
    "\"\"\"\n",
    "class_weight_ver1:\n",
    "    weights = tf_inverse\n",
    "\n",
    "class_weight_ver2:\n",
    "    weights = tf_inverse * df\n",
    "\n",
    "class_weight_ver3:\n",
    "    weights = tf_inverse * df * df\n",
    "\"\"\"\n",
    "# 保存排序後的權重到JSON文件\n",
    "saved_filename = \"class_weight_ver3\"\n",
    "with open(f'{saved_filename}.json', 'w') as json_file:\n",
    "    json.dump(simplified_class_weights, json_file, indent=4)\n",
    "\n",
    "print(f\"Sorted class weights have been saved to {saved_filename}.json.\")"
   ]
  }
 ],
 "metadata": {
  "kernelspec": {
   "display_name": "Python 3",
   "language": "python",
   "name": "python3"
  },
  "language_info": {
   "codemirror_mode": {
    "name": "ipython",
    "version": 3
   },
   "file_extension": ".py",
   "mimetype": "text/x-python",
   "name": "python",
   "nbconvert_exporter": "python",
   "pygments_lexer": "ipython3",
   "version": "3.10.9"
  }
 },
 "nbformat": 4,
 "nbformat_minor": 2
}
